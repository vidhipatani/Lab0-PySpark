{
  "nbformat": 4,
  "nbformat_minor": 0,
  "metadata": {
    "colab": {
      "provenance": [],
      "authorship_tag": "ABX9TyMXvd7v9Dfexm1eGxOP4DOD",
      "include_colab_link": true
    },
    "kernelspec": {
      "name": "python3",
      "display_name": "Python 3"
    },
    "language_info": {
      "name": "python"
    }
  },
  "cells": [
    {
      "cell_type": "markdown",
      "metadata": {
        "id": "view-in-github",
        "colab_type": "text"
      },
      "source": [
        "<a href=\"https://colab.research.google.com/github/vidhipatani/Lab0-PySpark/blob/main/ALY6110_VPATANI_Assign2.ipynb\" target=\"_parent\"><img src=\"https://colab.research.google.com/assets/colab-badge.svg\" alt=\"Open In Colab\"/></a>"
      ]
    },
    {
      "cell_type": "code",
      "execution_count": 1,
      "metadata": {
        "colab": {
          "base_uri": "https://localhost:8080/"
        },
        "id": "BWw2-aiZkivL",
        "outputId": "9b5d39f1-40a5-4fc7-aeed-e3b0d0a4294e"
      },
      "outputs": [
        {
          "output_type": "stream",
          "name": "stdout",
          "text": [
            "Collecting pyspark\n",
            "  Downloading pyspark-3.5.1.tar.gz (317.0 MB)\n",
            "\u001b[2K     \u001b[90m━━━━━━━━━━━━━━━━━━━━━━━━━━━━━━━━━━━━━━━━\u001b[0m \u001b[32m317.0/317.0 MB\u001b[0m \u001b[31m3.0 MB/s\u001b[0m eta \u001b[36m0:00:00\u001b[0m\n",
            "\u001b[?25h  Preparing metadata (setup.py) ... \u001b[?25l\u001b[?25hdone\n",
            "Requirement already satisfied: py4j==0.10.9.7 in /usr/local/lib/python3.10/dist-packages (from pyspark) (0.10.9.7)\n",
            "Building wheels for collected packages: pyspark\n",
            "  Building wheel for pyspark (setup.py) ... \u001b[?25l\u001b[?25hdone\n",
            "  Created wheel for pyspark: filename=pyspark-3.5.1-py2.py3-none-any.whl size=317488491 sha256=86239815c671f2dab78e10472cc6779f0f190aa5b91812bfe6da2fae94ca62bc\n",
            "  Stored in directory: /root/.cache/pip/wheels/80/1d/60/2c256ed38dddce2fdd93be545214a63e02fbd8d74fb0b7f3a6\n",
            "Successfully built pyspark\n",
            "Installing collected packages: pyspark\n",
            "Successfully installed pyspark-3.5.1\n"
          ]
        }
      ],
      "source": [
        "pip install pyspark"
      ]
    },
    {
      "cell_type": "code",
      "source": [
        "from pyspark.sql import SparkSession\n",
        "from pyspark.sql.functions import col, count, mean, stddev\n",
        "import matplotlib.pyplot as plt\n",
        "from pyspark.sql.functions import when"
      ],
      "metadata": {
        "id": "VFSmthNSk1nP"
      },
      "execution_count": 2,
      "outputs": []
    },
    {
      "cell_type": "code",
      "source": [
        "# Step 1: Initialize Spark Session\n",
        "spark = SparkSession.builder.appName(\"BostonHousingAnalysis\").getOrCreate()\n",
        "\n",
        "# Step 2: Load the Dataset\n",
        "# Assuming the dataset is in a CSV file named 'boston_housing.csv'\n",
        "df = spark.read.csv(\"BostonHousing.csv\", header=True, inferSchema=True)"
      ],
      "metadata": {
        "id": "-MWQpf1Dk1xM"
      },
      "execution_count": 3,
      "outputs": []
    },
    {
      "cell_type": "code",
      "source": [
        "# Step 3: Data Preparation\n",
        "# Remove rows with missing values\n",
        "df = df.dropna()\n",
        "\n",
        "# Display the schema of the DataFrame\n",
        "df.printSchema()"
      ],
      "metadata": {
        "colab": {
          "base_uri": "https://localhost:8080/"
        },
        "id": "IVFfwpR9mW3B",
        "outputId": "33bcb790-19f3-4492-9cc8-eb0168ae0ce0"
      },
      "execution_count": 4,
      "outputs": [
        {
          "output_type": "stream",
          "name": "stdout",
          "text": [
            "root\n",
            " |-- crim: double (nullable = true)\n",
            " |-- zn: double (nullable = true)\n",
            " |-- indus: double (nullable = true)\n",
            " |-- chas: integer (nullable = true)\n",
            " |-- nox: double (nullable = true)\n",
            " |-- rm: double (nullable = true)\n",
            " |-- age: double (nullable = true)\n",
            " |-- dis: double (nullable = true)\n",
            " |-- rad: integer (nullable = true)\n",
            " |-- tax: integer (nullable = true)\n",
            " |-- ptratio: double (nullable = true)\n",
            " |-- b: double (nullable = true)\n",
            " |-- lstat: double (nullable = true)\n",
            " |-- medv: double (nullable = true)\n",
            "\n"
          ]
        }
      ]
    },
    {
      "cell_type": "code",
      "source": [
        "# Step 4: Define Bins for RM (Average number of rooms per dwelling)\n",
        "bins = [0, 4, 5, 6, 7, 8, float('inf')]\n",
        "labels = [\"<=4\", \"4-5\", \"5-6\", \"6-7\", \"7-8\", \">8\"]\n",
        "\n",
        "# Create a new column 'RM_Bin' based on the bins\n",
        "df = df.withColumn(\"RM_Bin\",\n",
        "                   when(col(\"rm\") <= 4, \"<=4\")\n",
        "                   .when((col(\"rm\") > 4) & (col(\"rm\") <= 5), \"4-5\")\n",
        "                   .when((col(\"rm\") > 5) & (col(\"rm\") <= 6), \"5-6\")\n",
        "                   .when((col(\"rm\") > 6) & (col(\"rm\") <= 7), \"6-7\")\n",
        "                   .when((col(\"rm\") > 7) & (col(\"rm\") <= 8), \"7-8\")\n",
        "                   .otherwise(\">8\"))"
      ],
      "metadata": {
        "id": "LYtanVPGmXHP"
      },
      "execution_count": 5,
      "outputs": []
    },
    {
      "cell_type": "code",
      "source": [
        "# Step 5: Calculate Statistics for Each Bin\n",
        "statistics = df.groupBy(\"RM_Bin\").agg(\n",
        "    count(\"medv\").alias(\"Count\"),\n",
        "    mean(\"medv\").alias(\"Mean_MEDV\"),\n",
        "    stddev(\"medv\").alias(\"StdDev_MEDV\")\n",
        ").orderBy(\"RM_Bin\")\n",
        "\n",
        "# Show the results\n",
        "statistics.show()"
      ],
      "metadata": {
        "colab": {
          "base_uri": "https://localhost:8080/"
        },
        "id": "tn075Ns0nkFz",
        "outputId": "430b5465-97a0-4ddb-fcd8-cf9230010f48"
      },
      "execution_count": 6,
      "outputs": [
        {
          "output_type": "stream",
          "name": "stdout",
          "text": [
            "+------+-----+------------------+------------------+\n",
            "|RM_Bin|Count|         Mean_MEDV|       StdDev_MEDV|\n",
            "+------+-----+------------------+------------------+\n",
            "|   4-5|   14| 15.40714285714286|10.764218810178777|\n",
            "|   5-6|  157| 17.55159235668789| 5.308322023441738|\n",
            "|   6-7|  269| 22.01598513011151| 6.467721594707344|\n",
            "|   7-8|   51|36.917647058823526| 8.316362326939656|\n",
            "|   <=4|    2|              25.3|3.1112698372208083|\n",
            "|    >8|   13|              44.2| 8.092383250110357|\n",
            "+------+-----+------------------+------------------+\n",
            "\n"
          ]
        }
      ]
    },
    {
      "cell_type": "code",
      "source": [
        "# Step 6: Collect results for visualization\n",
        "result = statistics.toPandas()"
      ],
      "metadata": {
        "id": "O9oPl4W0npMU"
      },
      "execution_count": 7,
      "outputs": []
    },
    {
      "cell_type": "code",
      "source": [
        "# Step 7: Create Visualizations\n",
        "plt.figure(figsize=(12, 6))\n",
        "\n",
        "# Bar chart for Mean_MEDV\n",
        "plt.subplot(1, 2, 1)\n",
        "plt.bar(result['RM_Bin'], result['Mean_MEDV'], color='blue')\n",
        "plt.xlabel('RM Bin')\n",
        "plt.ylabel('Mean MEDV')\n",
        "plt.title('Mean MEDV by RM Bin')"
      ],
      "metadata": {
        "colab": {
          "base_uri": "https://localhost:8080/",
          "height": 582
        },
        "id": "bWhu3anPns_v",
        "outputId": "24657195-bcbb-406b-b380-485dbbebb045"
      },
      "execution_count": 8,
      "outputs": [
        {
          "output_type": "execute_result",
          "data": {
            "text/plain": [
              "Text(0.5, 1.0, 'Mean MEDV by RM Bin')"
            ]
          },
          "metadata": {},
          "execution_count": 8
        },
        {
          "output_type": "display_data",
          "data": {
            "text/plain": [
              "<Figure size 1200x600 with 1 Axes>"
            ],
            "image/png": "[encoded data removed]"
          },
          "metadata": {}
        }
      ]
    },
    {
      "cell_type": "code",
      "source": [
        "# Bar chart for StdDev_MEDV\n",
        "plt.subplot(1, 2, 2)\n",
        "plt.bar(result['RM_Bin'], result['StdDev_MEDV'], color='green')\n",
        "plt.xlabel('RM Bin')\n",
        "plt.ylabel('StdDev MEDV')\n",
        "plt.title('StdDev MEDV by RM Bin')\n",
        "\n",
        "plt.tight_layout()\n",
        "plt.show()"
      ],
      "metadata": {
        "colab": {
          "base_uri": "https://localhost:8080/",
          "height": 487
        },
        "id": "DigKxk8fn8qZ",
        "outputId": "81759f99-d049-4903-f23d-4f3fab7dbd07"
      },
      "execution_count": 9,
      "outputs": [
        {
          "output_type": "display_data",
          "data": {
            "text/plain": [
              "<Figure size 640x480 with 1 Axes>"
            ],
            "image/png": "[encoded data removed]"
          },
          "metadata": {}
        }
      ]
    },
    {
      "cell_type": "markdown",
      "source": [
        "# New Section"
      ],
      "metadata": {
        "id": "n_jlccbol5WD"
      }
    }
  ]
}